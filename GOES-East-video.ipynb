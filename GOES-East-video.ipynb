{
 "cells": [
  {
   "cell_type": "code",
   "execution_count": 2,
   "metadata": {},
   "outputs": [],
   "source": [
    "import os\n",
    "from glob import glob \n",
    "import moviepy.editor as mpy\n",
    "import shutil\n",
    "import urllib.request as request\n",
    "from contextlib import closing\n",
    "import ftplib"
   ]
  },
  {
   "cell_type": "markdown",
   "metadata": {},
   "source": [
    "# Go to the NOAA ftp for GOES East and list the big picture files"
   ]
  },
  {
   "cell_type": "code",
   "execution_count": 2,
   "metadata": {},
   "outputs": [],
   "source": [
    "ftp = ftplib.FTP('ftp.star.nesdis.noaa.gov')\n",
    "ftp.login()\n",
    "ftp.cwd('pub/star/goes/GOES16/ABI/SECTOR/ne/GEOCOLOR/')\n",
    "\n",
    "files = ftp.nlst('')"
   ]
  },
  {
   "cell_type": "code",
   "execution_count": 10,
   "metadata": {},
   "outputs": [],
   "source": [
    "mylist = []\n",
    "\n",
    "for f in files:\n",
    "    if 'x2400.jpg' in f:\n",
    "        mylist.append(f)\n",
    "\n",
    "mylist = mylist[1:]"
   ]
  },
  {
   "cell_type": "markdown",
   "metadata": {},
   "source": [
    "# Download the picture files"
   ]
  },
  {
   "cell_type": "code",
   "execution_count": null,
   "metadata": {},
   "outputs": [],
   "source": [
    "for pic in mylist:\n",
    "    \n",
    "    url_file = 'ftp://ftp.star.nesdis.noaa.gov/pub/star/goes/GOES16/ABI/SECTOR/ne/GEOCOLOR/{}'.format(pic)\n",
    "\n",
    "    with closing(request.urlopen(url_file)) as r:\n",
    "        with open(os.path.join('pics', os.path.basename(url_file)), 'wb') as f:\n",
    "            shutil.copyfileobj(r,f)"
   ]
  },
  {
   "cell_type": "markdown",
   "metadata": {},
   "source": [
    "# Make the gif/video"
   ]
  },
  {
   "cell_type": "code",
   "execution_count": 2,
   "metadata": {},
   "outputs": [],
   "source": [
    "def make_gif(pic_paths, fps, gif_name):\n",
    "    clip = mpy.ImageSequenceClip(pic_paths, fps=fps)\n",
    "    clip.write_gif('{}.gif'.format(gif_name), fps=fps)\n",
    "    return gif_name"
   ]
  },
  {
   "cell_type": "code",
   "execution_count": 3,
   "metadata": {},
   "outputs": [
    {
     "name": "stdout",
     "output_type": "stream",
     "text": [
      "Moviepy - Building video big_ol_sat.mp4.\n",
      "Moviepy - Writing video big_ol_sat.mp4\n",
      "\n"
     ]
    },
    {
     "name": "stderr",
     "output_type": "stream",
     "text": []
    },
    {
     "name": "stdout",
     "output_type": "stream",
     "text": [
      "Moviepy - Done !\n",
      "Moviepy - video ready big_ol_sat.mp4\n"
     ]
    }
   ],
   "source": [
    "# parameters\n",
    "picture_folder = r'pics\\*.jpg'\n",
    "mp4_name = 'big_ol_sat.mp4'\n",
    "fps = 30\n",
    "\n",
    "# list the satellite pictures\n",
    "pic_paths = glob(picture_folder)\n",
    "list.sort(pic_paths, key = lambda x: int(os.path.basename(x).split('_')[0]))\n",
    "pic_paths = pic_paths[0:500]\n",
    "\n",
    "# make the video\n",
    "clip = mpy.ImageSequenceClip(pic_paths, fps=fps)\n",
    "clip.write_videofile(mp4_name, fps=fps)\n",
    "# make_gif(pic_paths, fps, gif_name)"
   ]
  },
  {
   "cell_type": "code",
   "execution_count": null,
   "metadata": {},
   "outputs": [],
   "source": []
  }
 ],
 "metadata": {
  "kernelspec": {
   "display_name": "Python [conda env:vectors]",
   "language": "python",
   "name": "conda-env-vectors-py"
  },
  "language_info": {
   "codemirror_mode": {
    "name": "ipython",
    "version": 3
   },
   "file_extension": ".py",
   "mimetype": "text/x-python",
   "name": "python",
   "nbconvert_exporter": "python",
   "pygments_lexer": "ipython3",
   "version": "3.7.3"
  }
 },
 "nbformat": 4,
 "nbformat_minor": 2
}
